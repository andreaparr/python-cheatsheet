{
 "cells": [
  {
   "cell_type": "code",
   "execution_count": 3,
   "metadata": {},
   "outputs": [
    {
     "name": "stdout",
     "output_type": "stream",
     "text": [
      "Yes, it's true.\n"
     ]
    }
   ],
   "source": [
    "# indentations!\n",
    "if True:\n",
    "    print('Yes, it\\'s true.') # 4 spaces of indentation\n",
    "else:\n",
    "    print('Must not be true.')"
   ]
  },
  {
   "cell_type": "code",
   "execution_count": 4,
   "metadata": {},
   "outputs": [],
   "source": [
    "# commenting code\n",
    "# I am a comment\n",
    "# I am a comment as well\n",
    "# We are all comments provided we # each line"
   ]
  },
  {
   "cell_type": "code",
   "execution_count": 5,
   "metadata": {},
   "outputs": [
    {
     "name": "stdout",
     "output_type": "stream",
     "text": [
      "hello world\n",
      "first steatement\n",
      "second statement\n"
     ]
    },
    {
     "ename": "NameError",
     "evalue": "name 'Print' is not defined",
     "output_type": "error",
     "traceback": [
      "\u001b[0;31m---------------------------------------------------------------------------\u001b[0m",
      "\u001b[0;31mNameError\u001b[0m                                 Traceback (most recent call last)",
      "\u001b[0;32m<ipython-input-5-39ec752c63c6>\u001b[0m in \u001b[0;36m<module>\u001b[0;34m\u001b[0m\n\u001b[1;32m      3\u001b[0m \u001b[0mprint\u001b[0m\u001b[0;34m(\u001b[0m\u001b[0;34m'first steatement'\u001b[0m\u001b[0;34m)\u001b[0m\u001b[0;34m\u001b[0m\u001b[0m\n\u001b[1;32m      4\u001b[0m \u001b[0mprint\u001b[0m\u001b[0;34m(\u001b[0m\u001b[0;34m'second statement'\u001b[0m\u001b[0;34m)\u001b[0m\u001b[0;34m\u001b[0m\u001b[0m\n\u001b[0;32m----> 5\u001b[0;31m \u001b[0mPrint\u001b[0m\u001b[0;34m(\u001b[0m\u001b[0;34m'third statement'\u001b[0m\u001b[0;34m)\u001b[0m\u001b[0;34m\u001b[0m\u001b[0m\n\u001b[0m",
      "\u001b[0;31mNameError\u001b[0m: name 'Print' is not defined"
     ]
    }
   ],
   "source": [
    "# statements\n",
    "print('hello world')\n",
    "print('first steatement')\n",
    "print('second statement')\n",
    "Print('third statement') # this generates an error because Python is case sensitive"
   ]
  },
  {
   "cell_type": "code",
   "execution_count": 6,
   "metadata": {},
   "outputs": [
    {
     "name": "stdout",
     "output_type": "stream",
     "text": [
      "56\n"
     ]
    }
   ],
   "source": [
    "# multiline statements need a \\ after each line with subsequent lines needing 4 spaces\n",
    "sum = 15 + \\\n",
    "    26 + \\\n",
    "    15\n",
    "print(sum) #56"
   ]
  },
  {
   "cell_type": "code",
   "execution_count": 8,
   "metadata": {},
   "outputs": [
    {
     "ename": "SyntaxError",
     "evalue": "invalid syntax (<ipython-input-8-70c212227be3>, line 6)",
     "output_type": "error",
     "traceback": [
      "\u001b[0;36m  File \u001b[0;32m\"<ipython-input-8-70c212227be3>\"\u001b[0;36m, line \u001b[0;32m6\u001b[0m\n\u001b[0;31m    6Change = 100 *(b-a)/a # syntax error: invalid syntax\u001b[0m\n\u001b[0m          ^\u001b[0m\n\u001b[0;31mSyntaxError\u001b[0m\u001b[0;31m:\u001b[0m invalid syntax\n"
     ]
    }
   ],
   "source": [
    "# errors & exceptions\n",
    "\n",
    "# syntax errors\n",
    "a = 10\n",
    "b = 15\n",
    "6Change = 100 *(b-a)/a # syntax error: invalid syntax\n",
    "# don't start variable names with a number"
   ]
  },
  {
   "cell_type": "code",
   "execution_count": 9,
   "metadata": {},
   "outputs": [
    {
     "name": "stdout",
     "output_type": "stream",
     "text": [
      "1400.0\n"
     ]
    }
   ],
   "source": [
    "# semantic errors\n",
    "a = 5\n",
    "b = 15\n",
    "percent_change = 100 * (b - a / a)\n",
    "print(percent_change) # 1400% ???\n",
    "# watch out for incorrect assumptions and math errors written into the code"
   ]
  },
  {
   "cell_type": "code",
   "execution_count": 10,
   "metadata": {
    "scrolled": true
   },
   "outputs": [
    {
     "ename": "ZeroDivisionError",
     "evalue": "division by zero",
     "output_type": "error",
     "traceback": [
      "\u001b[0;31m---------------------------------------------------------------------------\u001b[0m",
      "\u001b[0;31mZeroDivisionError\u001b[0m                         Traceback (most recent call last)",
      "\u001b[0;32m<ipython-input-10-493c35503544>\u001b[0m in \u001b[0;36m<module>\u001b[0;34m\u001b[0m\n\u001b[1;32m      2\u001b[0m \u001b[0ma\u001b[0m \u001b[0;34m=\u001b[0m \u001b[0;36m0\u001b[0m\u001b[0;34m\u001b[0m\u001b[0m\n\u001b[1;32m      3\u001b[0m \u001b[0mb\u001b[0m \u001b[0;34m=\u001b[0m \u001b[0;36m15\u001b[0m\u001b[0;34m\u001b[0m\u001b[0m\n\u001b[0;32m----> 4\u001b[0;31m \u001b[0mPercentChange\u001b[0m \u001b[0;34m=\u001b[0m \u001b[0;36m100\u001b[0m \u001b[0;34m*\u001b[0m \u001b[0;34m(\u001b[0m\u001b[0mb\u001b[0m \u001b[0;34m-\u001b[0m \u001b[0ma\u001b[0m\u001b[0;34m)\u001b[0m\u001b[0;34m/\u001b[0m\u001b[0ma\u001b[0m\u001b[0;34m\u001b[0m\u001b[0m\n\u001b[0m",
      "\u001b[0;31mZeroDivisionError\u001b[0m: division by zero"
     ]
    }
   ],
   "source": [
    "# run-time errors\n",
    "a = 0\n",
    "b = 15\n",
    "PercentChange = 100 * (b - a)/a\n",
    "# easy to debuy because they're detected as the script executes"
   ]
  },
  {
   "cell_type": "code",
   "execution_count": 13,
   "metadata": {},
   "outputs": [
    {
     "name": "stdout",
     "output_type": "stream",
     "text": [
      "Whoops, you can't divide by zero\n",
      "Hey, this script is still being executed!\n"
     ]
    }
   ],
   "source": [
    "# exceptions\n",
    "# try catching exceptions using try and except statements\n",
    "a = 0\n",
    "b = 15\n",
    "try:\n",
    "    PercentChange = 100 * (b - a)/ a # ZeroDivisionError: division by zero\n",
    "except ZeroDivisionError:\n",
    "    print(\"Whoops, you can't divide by zero\")\n",
    "\n",
    "print(\"Hey, this script is still being executed!\")"
   ]
  },
  {
   "cell_type": "code",
   "execution_count": 14,
   "metadata": {},
   "outputs": [
    {
     "name": "stdout",
     "output_type": "stream",
     "text": [
      "hello world\n"
     ]
    }
   ],
   "source": [
    "# variables and assignment statements\n",
    "# the variable greeting is created and assigned a string type value\n",
    "greeting = 'hello world'\n",
    "print(greeting)\n",
    "# variable names need to be a single word"
   ]
  },
  {
   "cell_type": "code",
   "execution_count": 15,
   "metadata": {},
   "outputs": [
    {
     "name": "stdout",
     "output_type": "stream",
     "text": [
      "True\n",
      "False\n"
     ]
    }
   ],
   "source": [
    "# keywords\n",
    "import keyword # test keywords before assigning variable names\n",
    "print(keyword.iskeyword('global')) #true\n",
    "print(keyword.iskeyword('cat')) #false"
   ]
  },
  {
   "cell_type": "code",
   "execution_count": 16,
   "metadata": {},
   "outputs": [
    {
     "name": "stdout",
     "output_type": "stream",
     "text": [
      "hello world\n"
     ]
    }
   ],
   "source": [
    "# naming conventions\n",
    "# Python uses snake_case (not camelCase)\n",
    "# the variable greeting is created and assigned a string type value\n",
    "my_greeting = 'hello world'\n",
    "print(my_greeting)"
   ]
  },
  {
   "cell_type": "code",
   "execution_count": 18,
   "metadata": {},
   "outputs": [
    {
     "data": {
      "text/plain": [
       "8"
      ]
     },
     "execution_count": 18,
     "metadata": {},
     "output_type": "execute_result"
    }
   ],
   "source": [
    "# converting types\n",
    "# to avoid a type error when attempting to concatenate an int and str type:\n",
    "a = 4\n",
    "b = '4'\n",
    "c = a + int(b) # converts str value to integer\n",
    "c # output is 8"
   ]
  },
  {
   "cell_type": "code",
   "execution_count": 19,
   "metadata": {},
   "outputs": [
    {
     "name": "stdout",
     "output_type": "stream",
     "text": [
      "True\n",
      "False\n",
      "True\n",
      "False\n",
      "True\n",
      "True\n",
      "False\n"
     ]
    }
   ],
   "source": [
    "# expressions and comparison operators\n",
    "print(26 == 26)           # True\n",
    "print(26 == 42)           # False\n",
    "print('hello' == 'hello') # True\n",
    "print('hello' == 'Hello') # False\n",
    "print('cat' != 'cow')     # True\n",
    "print(42 == 42.0 )        # True\n",
    "print(42 == '42')         # False"
   ]
  },
  {
   "cell_type": "markdown",
   "metadata": {},
   "source": [
    "Python's built-in functions\n",
    "\n",
    "Python comes with many useful built-in functions immediately available for your use (see the documentation on built-in functions).\n",
    "\n",
    "---\t---\t---\t---\t---\n",
    "abs()\tdelattr()\thash()\tmemoryview()\tset()\n",
    "all()\tdict()\thelp()\tmin()\tsetattr()\n",
    "any()\tdir()\thex()\tnext()\tslice()\n",
    "ascii()\tdivmod()\tid()\tobject()\tsorted()\n",
    "bin()\tenumerate()\tinput()\toct()\tstaticmethod()\n",
    "bool()\teval()\tint()\topen()\tstr()\n",
    "breakpoint()\texec()\tisinstance()\tord()\tsum()\n",
    "bytearray()\tfilter()\tissubclass()\tpow()\tsuper()\n",
    "bytes()\tfloat()\titer()\tprint()\ttuple()\n",
    "callable()\tformat()\tlen()\tproperty()\ttype()\n",
    "chr()\tfrozenset()\tlist()\trange()\tvars()\n",
    "classmethod()\tgetattr()\tlocals()\trepr()\tzip()\n",
    "compile()\tglobals()\tmap()\treversed()\timport()\n",
    "complex()\thasattr()\tmax()\tround()\t"
   ]
  },
  {
   "cell_type": "code",
   "execution_count": 24,
   "metadata": {},
   "outputs": [
    {
     "name": "stdout",
     "output_type": "stream",
     "text": [
      "(90.2, 34.9)\n"
     ]
    }
   ],
   "source": [
    "# data types\n",
    "# built-in functions that can convert types into other types\n",
    "# int, float, str(), tuple, list, dict(), set\n",
    "\n",
    "coords_list = [90.2,34.9]\n",
    "coords_tuple = tuple(coords_list)\n",
    "print(coords_tuple) # (90.2, 34.9)"
   ]
  },
  {
   "cell_type": "code",
   "execution_count": 31,
   "metadata": {},
   "outputs": [
    {
     "name": "stdout",
     "output_type": "stream",
     "text": [
      "4\n",
      "<class 'int'>\n",
      "4.5\n",
      "<class 'float'>\n",
      "<class 'int'> <class 'float'>\n",
      "9.5 <class 'float'>\n",
      "<class 'int'> <class 'int'>\n",
      "1.0 <class 'float'>\n"
     ]
    }
   ],
   "source": [
    "# numeric data types\n",
    "\n",
    "# integer\n",
    "number = 4\n",
    "print(number) #4\n",
    "print(type(number)) # <class 'int'>\n",
    "\n",
    "# floating point\n",
    "number = 4.5\n",
    "print(number) #4.5\n",
    "print(type(number))\n",
    "\n",
    "# integers and floating types are subtypes, so you can use operators without a type error\n",
    "a = 4\n",
    "b = 5.5\n",
    "print(type(a), type(b)) # <class 'int'> <class 'float'>\n",
    "c = a + b\n",
    "print(c, type(c)) # 9.5 <class 'float'>\n",
    "\n",
    "# division converts integers to float types\n",
    "a = 4\n",
    "b = 4\n",
    "print(type(a), type(b)) # <class 'int'> <class 'int'>\n",
    "c = a/b\n",
    "print (c, type(c)) # 1.0, <class 'float'>"
   ]
  },
  {
   "cell_type": "code",
   "execution_count": 38,
   "metadata": {},
   "outputs": [
    {
     "data": {
      "text/plain": [
       "4"
      ]
     },
     "execution_count": 38,
     "metadata": {},
     "output_type": "execute_result"
    }
   ],
   "source": [
    "# numeric operators\n",
    "\n",
    "2 ** 3 # 8 exponent\n",
    "22 % 8 # 6 modulus/remainder\n",
    "22 // 8 # 2 integer division\n",
    "22 / 8 # 2.75 division\n",
    "3 * 3 # 9 multiplication\n",
    "5 - 2 # 3 subtraction\n",
    "2 + 2 # 4 addition"
   ]
  },
  {
   "cell_type": "code",
   "execution_count": null,
   "metadata": {},
   "outputs": [],
   "source": [
    "# string types\n",
    "# can use single or double quotes\n",
    "a = 'a text string'\n",
    "print(a)\n",
    "b = \"another text string\"\n",
    "print(b)\n",
    "c = 'I\\'m texting.' # backslash to escape the single quote\n",
    "print(c) # I'm texting\n"
   ]
  },
  {
   "cell_type": "code",
   "execution_count": 48,
   "metadata": {},
   "outputs": [
    {
     "name": "stdout",
     "output_type": "stream",
     "text": [
      "a\n",
      "b\n",
      "cdef\n",
      "cdefg\n",
      "abcd\n",
      "bdf\n",
      "g\n",
      "e\n"
     ]
    }
   ],
   "source": [
    "# accessing string elements\n",
    "letters = 'abcdefg'\n",
    "print(letters[0]) #a\n",
    "second_letter = letters[1]\n",
    "print(second_letter) #b\n",
    "# print(letters[7]) #IndexError: string index out for range\n",
    "\n",
    "#use [j:k] for slice running form x[j] to x[k-1]\n",
    "letters = 'abcdefg'\n",
    "sliced = letters[2:6]\n",
    "print(sliced) # cdef\n",
    "\n",
    "#use [:j] to run through the end of the string\n",
    "letters = 'abcdefg'\n",
    "sliced = letters[2:]\n",
    "print(sliced) #cdefg\n",
    "\n",
    "#use [j:] for 0 through j-1\n",
    "letters = 'abcdefg'\n",
    "sliced = letters[:4]\n",
    "print(sliced) #abcd\n",
    "\n",
    "#use [i:j:k] to stride by k\n",
    "letters = 'abcdefg'\n",
    "sliced = letters[1:6:2]\n",
    "print(sliced) #bdf\n",
    "\n",
    "#use [-1] for last element or [-j] for jth from last\n",
    "letters = 'abcdefg'\n",
    "last_element = letters[-1]\n",
    "print(last_element) #g\n",
    "third_to_last_element = letters[-3]\n",
    "print(third_to_last_element) #e"
   ]
  },
  {
   "cell_type": "code",
   "execution_count": 56,
   "metadata": {},
   "outputs": [
    {
     "name": "stdout",
     "output_type": "stream",
     "text": [
      "I am a string \n",
      "string string string string string string \n",
      "False\n",
      "Paging Mr.Dobalina. Mr.Bob Dobalina.\n"
     ]
    }
   ],
   "source": [
    "# string operators\n",
    "\n",
    "# * +\n",
    "s = 'string '\n",
    "s2 = 'I am a '+ s\n",
    "print(s2)\n",
    "print(s*6)\n",
    "\n",
    "# in, not in\n",
    "animal = 'alligator'\n",
    "print('dog' in animal) #False\n",
    "\n",
    "# formatting f {...}\n",
    "first_name = 'Bob'\n",
    "last_name = 'Dobalina'\n",
    "output =f'Paging Mr.{last_name}. Mr.{first_name} {last_name}.'\n",
    "print(output)"
   ]
  },
  {
   "cell_type": "code",
   "execution_count": 57,
   "metadata": {},
   "outputs": [
    {
     "name": "stdout",
     "output_type": "stream",
     "text": [
      "3 c a\n",
      "4.6 <class 'str'>\n"
     ]
    }
   ],
   "source": [
    "# string functions\n",
    "length = len('abc') \n",
    "highest_char = max('abc') \n",
    "lowest_char = min('abc')\n",
    "print(length, highest_char, lowest_char) # 3 c a\n",
    "stringified = str(4.6)    \n",
    "print(stringified, type(stringified)) #4.6 <class 'str'>"
   ]
  },
  {
   "cell_type": "code",
   "execution_count": 63,
   "metadata": {},
   "outputs": [
    {
     "name": "stdout",
     "output_type": "stream",
     "text": [
      "CARTOGRAPHER\n",
      "rehpargotrac\n",
      "CARTOGRAPHER\n",
      "director\n",
      "the early bird catches the worm\n",
      "1,3,6,2,5,4,8\n",
      "['a', 'horse', 'walks', 'into', 'a', 'bar']\n",
      "['A long long time ago', ' in a galaxy far away', ' Naboo was under an attack']\n",
      "6\n",
      "boots and cows and boots and cows and boots and cows\n"
     ]
    }
   ],
   "source": [
    "# string methods\n",
    "job = 'cartographer'\n",
    "print(job.upper()) # CARTOGRAPHER\n",
    "print(''.join(list(reversed(job))))# a true method to reverse and ouput string\n",
    "print(job.upper()) # CARTOGRAPHER\n",
    "title = 'DIRECTOR'\n",
    "print(title.lower()) # director\n",
    "phrase = '   the early bird catches the worm  '\n",
    "print(phrase.strip()) #the early bird catches the worm\n",
    "\n",
    "#.join() method\n",
    "s = ','\n",
    "s2 = '1362548'\n",
    "with_commas = s.join(s2)\n",
    "print(with_commas) # 1,3,6,2,5,4,8\n",
    "\n",
    "#.split() method\n",
    "phrase = 'a horse walks into a bar'\n",
    "print(phrase.split()) # ['a', 'horse', 'walks', 'into', 'a', 'bar']\n",
    "\n",
    "#split on specific characters\n",
    "lyrics = 'A long long time ago, in a galaxy far away, Naboo was under an attack'\n",
    "print(lyrics.split(',')) # ['A long long time ago', ' in a galaxy far away', ' Naboo was under an attack']\n",
    "\n",
    "#.find() method\n",
    "print('geocomputing'.find('p')) # 6\n",
    "\n",
    "#.replace() method\n",
    "song = 'boots and cats and boots and cats and boots and cats'\n",
    "improved = song.replace('cats', 'cows')\n",
    "print(improved) # boots and cows and boots and cows and boots and cows"
   ]
  },
  {
   "cell_type": "code",
   "execution_count": 66,
   "metadata": {},
   "outputs": [],
   "source": [
    "# lists\n",
    "# list literals are created using bracket notation\n",
    "nums = [1,2,3,4,5,6]\n",
    "strings = ['cat','cow','crow','downward dog']\n",
    "lists = [[1,2,3,4,5,6],['cat','cow','crow','downward dog']]\n",
    "lists2 = [nums,strings]"
   ]
  },
  {
   "cell_type": "code",
   "execution_count": 67,
   "metadata": {},
   "outputs": [
    {
     "name": "stdout",
     "output_type": "stream",
     "text": [
      "c\n"
     ]
    }
   ],
   "source": [
    "# list elements can be other lists\n",
    "a = [0, ['a','b','c','d','e'], 2, 3]\n",
    "print(a[1][2]) # c\n"
   ]
  },
  {
   "cell_type": "code",
   "execution_count": 68,
   "metadata": {},
   "outputs": [
    {
     "name": "stdout",
     "output_type": "stream",
     "text": [
      "[1, 'text', 3, 4]\n",
      "[1, 'a', 'b', 4]\n",
      "[1, 'b', 4]\n"
     ]
    }
   ],
   "source": [
    "# lists are mutable\n",
    "a = [1,2,3,4]\n",
    "a[1] = 'text'\n",
    "print(a) # [1,’text’,3,4]\n",
    "a[1:3] = 'ab'\n",
    "print(a) # [1,’a’,’b’,4]\n",
    "del(a[1])\n",
    "print(a) # [1,’b’,4]"
   ]
  },
  {
   "cell_type": "code",
   "execution_count": 69,
   "metadata": {},
   "outputs": [
    {
     "name": "stdout",
     "output_type": "stream",
     "text": [
      "True\n",
      "False\n"
     ]
    }
   ],
   "source": [
    "# membership operators\n",
    "tools = ['Python', 'JS', 'GDAL', 'QGIS']\n",
    "print('JS' in tools) # True\n",
    "print('JS' not in tools) # False\n",
    "\n",
    "# this will be important for loops"
   ]
  },
  {
   "cell_type": "code",
   "execution_count": 72,
   "metadata": {},
   "outputs": [
    {
     "name": "stdout",
     "output_type": "stream",
     "text": [
      "3\n",
      "21\n",
      "Z\n"
     ]
    }
   ],
   "source": [
    "# list functions\n",
    "print(len([10,21,17])) # 3\n",
    "print(max([10,21,17])) # 21\n",
    "print(min(['a','Z','z'])) # Z"
   ]
  },
  {
   "cell_type": "code",
   "execution_count": 74,
   "metadata": {},
   "outputs": [
    {
     "name": "stdout",
     "output_type": "stream",
     "text": [
      "Help on list object:\n",
      "\n",
      "class list(object)\n",
      " |  list(iterable=(), /)\n",
      " |  \n",
      " |  Built-in mutable sequence.\n",
      " |  \n",
      " |  If no argument is given, the constructor creates a new empty list.\n",
      " |  The argument must be an iterable if specified.\n",
      " |  \n",
      " |  Methods defined here:\n",
      " |  \n",
      " |  __add__(self, value, /)\n",
      " |      Return self+value.\n",
      " |  \n",
      " |  __contains__(self, key, /)\n",
      " |      Return key in self.\n",
      " |  \n",
      " |  __delitem__(self, key, /)\n",
      " |      Delete self[key].\n",
      " |  \n",
      " |  __eq__(self, value, /)\n",
      " |      Return self==value.\n",
      " |  \n",
      " |  __ge__(self, value, /)\n",
      " |      Return self>=value.\n",
      " |  \n",
      " |  __getattribute__(self, name, /)\n",
      " |      Return getattr(self, name).\n",
      " |  \n",
      " |  __getitem__(...)\n",
      " |      x.__getitem__(y) <==> x[y]\n",
      " |  \n",
      " |  __gt__(self, value, /)\n",
      " |      Return self>value.\n",
      " |  \n",
      " |  __iadd__(self, value, /)\n",
      " |      Implement self+=value.\n",
      " |  \n",
      " |  __imul__(self, value, /)\n",
      " |      Implement self*=value.\n",
      " |  \n",
      " |  __init__(self, /, *args, **kwargs)\n",
      " |      Initialize self.  See help(type(self)) for accurate signature.\n",
      " |  \n",
      " |  __iter__(self, /)\n",
      " |      Implement iter(self).\n",
      " |  \n",
      " |  __le__(self, value, /)\n",
      " |      Return self<=value.\n",
      " |  \n",
      " |  __len__(self, /)\n",
      " |      Return len(self).\n",
      " |  \n",
      " |  __lt__(self, value, /)\n",
      " |      Return self<value.\n",
      " |  \n",
      " |  __mul__(self, value, /)\n",
      " |      Return self*value.\n",
      " |  \n",
      " |  __ne__(self, value, /)\n",
      " |      Return self!=value.\n",
      " |  \n",
      " |  __repr__(self, /)\n",
      " |      Return repr(self).\n",
      " |  \n",
      " |  __reversed__(self, /)\n",
      " |      Return a reverse iterator over the list.\n",
      " |  \n",
      " |  __rmul__(self, value, /)\n",
      " |      Return value*self.\n",
      " |  \n",
      " |  __setitem__(self, key, value, /)\n",
      " |      Set self[key] to value.\n",
      " |  \n",
      " |  __sizeof__(self, /)\n",
      " |      Return the size of the list in memory, in bytes.\n",
      " |  \n",
      " |  append(self, object, /)\n",
      " |      Append object to the end of the list.\n",
      " |  \n",
      " |  clear(self, /)\n",
      " |      Remove all items from list.\n",
      " |  \n",
      " |  copy(self, /)\n",
      " |      Return a shallow copy of the list.\n",
      " |  \n",
      " |  count(self, value, /)\n",
      " |      Return number of occurrences of value.\n",
      " |  \n",
      " |  extend(self, iterable, /)\n",
      " |      Extend list by appending elements from the iterable.\n",
      " |  \n",
      " |  index(self, value, start=0, stop=9223372036854775807, /)\n",
      " |      Return first index of value.\n",
      " |      \n",
      " |      Raises ValueError if the value is not present.\n",
      " |  \n",
      " |  insert(self, index, object, /)\n",
      " |      Insert object before index.\n",
      " |  \n",
      " |  pop(self, index=-1, /)\n",
      " |      Remove and return item at index (default last).\n",
      " |      \n",
      " |      Raises IndexError if list is empty or index is out of range.\n",
      " |  \n",
      " |  remove(self, value, /)\n",
      " |      Remove first occurrence of value.\n",
      " |      \n",
      " |      Raises ValueError if the value is not present.\n",
      " |  \n",
      " |  reverse(self, /)\n",
      " |      Reverse *IN PLACE*.\n",
      " |  \n",
      " |  sort(self, /, *, key=None, reverse=False)\n",
      " |      Stable sort *IN PLACE*.\n",
      " |  \n",
      " |  ----------------------------------------------------------------------\n",
      " |  Static methods defined here:\n",
      " |  \n",
      " |  __new__(*args, **kwargs) from builtins.type\n",
      " |      Create and return a new object.  See help(type) for accurate signature.\n",
      " |  \n",
      " |  ----------------------------------------------------------------------\n",
      " |  Data and other attributes defined here:\n",
      " |  \n",
      " |  __hash__ = None\n",
      "\n"
     ]
    }
   ],
   "source": [
    "# list methods\n",
    "nums = [1,2,3,4,5]\n",
    "help(nums) # see the available methods"
   ]
  },
  {
   "cell_type": "markdown",
   "metadata": {},
   "source": [
    "useful methods\n",
    "* l.append(object)\tappend object to list\n",
    "* l.insert(j,object)\tinsert object at position j\n",
    "* l.remove(object)\tremove object from list\n",
    "* l.pop(j)\tremove and return object at position j\n",
    "* l.reverse()\treverse order of items in list\n",
    "* l.count(object)\tcount occurrences of object in list\n",
    "* l.index(object)\treturn 1st index of object\n",
    "* l.index(object,i,j)\treturn 1st index of object b/t i and j\n",
    "* l.sort()\torder items in ascending order\n",
    "* l.copy()\tcreates a copy of a list\n"
   ]
  }
 ],
 "metadata": {
  "kernelspec": {
   "display_name": "Python 3",
   "language": "python",
   "name": "python3"
  },
  "language_info": {
   "codemirror_mode": {
    "name": "ipython",
    "version": 3
   },
   "file_extension": ".py",
   "mimetype": "text/x-python",
   "name": "python",
   "nbconvert_exporter": "python",
   "pygments_lexer": "ipython3",
   "version": "3.7.0"
  }
 },
 "nbformat": 4,
 "nbformat_minor": 2
}
